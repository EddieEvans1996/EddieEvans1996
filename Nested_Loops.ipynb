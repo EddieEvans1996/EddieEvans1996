{
 "cells": [
  {
   "cell_type": "markdown",
   "metadata": {},
   "source": [
    "# Nested Loops Practice"
   ]
  },
  {
   "cell_type": "markdown",
   "metadata": {},
   "source": [
    "## Shape Maker\n",
    "Write a program to produce the following pattern.\n",
    "\n",
    "CLUE: Use nested for loops, using one nested loop to increase in size and another to decrease.\n",
    "\n",
    "Start with n=5\n",
    "\n",
    "a\n",
    "\n",
    "a a\n",
    "\n",
    "a a a\n",
    "\n",
    "a a a a\n",
    "\n",
    "a a a a a\n",
    "\n",
    "a a a a\n",
    "\n",
    "a a a\n",
    "\n",
    "a a\n",
    "\n",
    "a"
   ]
  },
  {
   "cell_type": "code",
   "execution_count": 1,
   "metadata": {},
   "outputs": [
    {
     "name": "stdout",
     "output_type": "stream",
     "text": [
      "\n",
      "*\n",
      "**\n",
      "***\n",
      "****\n",
      "*****\n",
      "****\n",
      "***\n",
      "**\n",
      "*\n"
     ]
    }
   ],
   "source": [
    "for i in range(10):\n",
    "  if i < 5:\n",
    "    for j in range(0 + i):\n",
    "      print('*',end='')\n",
    "    print('')\n",
    "      #print(i,j)\n",
    "  elif i >= 5:\n",
    "    for j in range(10-i):\n",
    "      print('*',end='')\n",
    "    print('') \n",
    "      #print(i,j) "
   ]
  },
  {
   "cell_type": "markdown",
   "metadata": {},
   "source": [
    "## Bonus Question\n",
    "Write a program to check whether each number from 10 to 50 is prime\n",
    "\n",
    "Your answer should take the following format:\n",
    "\n",
    "- \"x IS a prime number.\" for primes\n",
    "\n",
    "- \"x IS NOT a prime number because y is a factor of x.\" for non-primes\n",
    "\n",
    "CLUE: This is possible using a while loop nested in a for loop or using a nested for loop; if you can, try to find both."
   ]
  },
  {
   "cell_type": "code",
   "execution_count": 27,
   "metadata": {},
   "outputs": [
    {
     "name": "stdout",
     "output_type": "stream",
     "text": [
      "10 is not prime, 2 is a factor.\n",
      "11 is a prime number.\n",
      "12 is not prime, 2 is a factor.\n",
      "13 is a prime number.\n",
      "14 is not prime, 2 is a factor.\n",
      "15 is not prime, 3 is a factor.\n",
      "16 is not prime, 2 is a factor.\n",
      "17 is a prime number.\n",
      "18 is not prime, 2 is a factor.\n",
      "19 is a prime number.\n",
      "20 is not prime, 2 is a factor.\n",
      "21 is not prime, 3 is a factor.\n",
      "22 is not prime, 2 is a factor.\n",
      "23 is a prime number.\n",
      "24 is not prime, 2 is a factor.\n",
      "25 is not prime, 5 is a factor.\n",
      "26 is not prime, 2 is a factor.\n",
      "27 is not prime, 3 is a factor.\n",
      "28 is not prime, 2 is a factor.\n",
      "29 is a prime number.\n",
      "30 is not prime, 2 is a factor.\n",
      "31 is a prime number.\n",
      "32 is not prime, 2 is a factor.\n",
      "33 is not prime, 3 is a factor.\n",
      "34 is not prime, 2 is a factor.\n",
      "35 is not prime, 5 is a factor.\n",
      "36 is not prime, 2 is a factor.\n",
      "37 is a prime number.\n",
      "38 is not prime, 2 is a factor.\n",
      "39 is not prime, 3 is a factor.\n",
      "40 is not prime, 2 is a factor.\n",
      "41 is a prime number.\n",
      "42 is not prime, 2 is a factor.\n",
      "43 is a prime number.\n",
      "44 is not prime, 2 is a factor.\n",
      "45 is not prime, 3 is a factor.\n",
      "46 is not prime, 2 is a factor.\n",
      "47 is a prime number.\n",
      "48 is not prime, 2 is a factor.\n",
      "49 is not prime, 7 is a factor.\n",
      "50 is not prime, 2 is a factor.\n"
     ]
    }
   ],
   "source": [
    "# Using nested for loops method\n",
    "\n",
    "\n",
    "def find_prime(x):\n",
    "    \n",
    "    breakout_flag = False # have to use breakout flag as there is no way to break multiple loops at once in python.\n",
    "\n",
    "    for iter in range (1, x):\n",
    "        for iter in range(1,x):\n",
    "            if x%iter == 0 and iter != 1:\n",
    "                print(f'{x} is not prime, {iter} is a factor.')    \n",
    "                breakout_flag = True \n",
    "                break\n",
    "        if breakout_flag:\n",
    "            break\n",
    "\n",
    "    if breakout_flag == False:\n",
    "        print(f'{x} is a prime number.')\n",
    "\n",
    "for num in range(10,51):\n",
    "    find_prime(num)\n",
    "\n"
   ]
  },
  {
   "cell_type": "code",
   "execution_count": null,
   "metadata": {},
   "outputs": [],
   "source": []
  }
 ],
 "metadata": {
  "interpreter": {
   "hash": "3ee29c714df3265524192047a9c1ed88540f892048242636a710e8ef53fb505b"
  },
  "kernelspec": {
   "display_name": "Python 3.9.7 64-bit ('base': conda)",
   "name": "python3"
  },
  "language_info": {
   "codemirror_mode": {
    "name": "ipython",
    "version": 3
   },
   "file_extension": ".py",
   "mimetype": "text/x-python",
   "name": "python",
   "nbconvert_exporter": "python",
   "pygments_lexer": "ipython3",
   "version": "3.9.7"
  },
  "orig_nbformat": 4
 },
 "nbformat": 4,
 "nbformat_minor": 2
}
