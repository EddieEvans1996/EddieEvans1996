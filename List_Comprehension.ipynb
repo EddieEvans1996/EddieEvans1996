{
 "cells": [
  {
   "cell_type": "markdown",
   "metadata": {},
   "source": [
    "# List Comprehensions"
   ]
  },
  {
   "cell_type": "markdown",
   "metadata": {},
   "source": [
    "## Example of List Comprehensions"
   ]
  },
  {
   "cell_type": "code",
   "execution_count": 2,
   "metadata": {},
   "outputs": [
    {
     "name": "stdout",
     "output_type": "stream",
     "text": [
      "['apple', 'banana', 'mango']\n",
      "['apple', 'banana', 'mango']\n"
     ]
    }
   ],
   "source": [
    "fruits = [\"apple\", \"banana\", \"cherry\", \"kiwi\", \"mango\"]\n",
    "newlist = []\n",
    "\n",
    "for x in fruits:\n",
    "  if \"a\" in x:\n",
    "    newlist.append(x)\n",
    "\n",
    "print(newlist) \n",
    "\n",
    "fruits = [\"apple\", \"banana\", \"cherry\", \"kiwi\", \"mango\"]\n",
    "\n",
    "newlist = [x for x in fruits if \"a\" in x]\n",
    "\n",
    "print(newlist) "
   ]
  },
  {
   "cell_type": "markdown",
   "metadata": {},
   "source": [
    "## General Syntax\n",
    "newlist = [expression for item in iterable if condition == True]"
   ]
  },
  {
   "cell_type": "markdown",
   "metadata": {},
   "source": [
    "## Even and Odd List comprehensions\n",
    "\n",
    "- Create a list comprehension that squares even arguments, and adds 1 to and squares odd arguments\n",
    "\n",
    "- Test on my_list\n",
    "\n",
    "my_list = [34,52,71,39,22,73,92]"
   ]
  },
  {
   "cell_type": "code",
   "execution_count": 6,
   "metadata": {},
   "outputs": [
    {
     "name": "stdout",
     "output_type": "stream",
     "text": [
      "[4, 16]\n",
      "[1156, 2704, 484, 8464]\n"
     ]
    }
   ],
   "source": [
    "#defining an easy list so i can quickly see if the maths works out.\n",
    "\n",
    "easy_list = [1,2,3,4]\n",
    "\n",
    "newlist = [x**2 for x in easy_list if x % 2 == 0]\n",
    "print(newlist)\n",
    "\n",
    "#success, now loading in the list given in the question.\n",
    "\n",
    "my_list = [34,52,71,39,22,73,92]\n",
    "\n",
    "Even_square = [x**2 for x in my_list if x % 2 == 0]\n",
    "print(Even_square)"
   ]
  },
  {
   "cell_type": "markdown",
   "metadata": {},
   "source": [
    "## Dictionaries and list comprehension\n",
    "\n",
    "1. Create a dictionary with 2 keys\n",
    "\n",
    "- name: a string of your name\n",
    "\n",
    "- skills: a list of strings\n",
    "\n",
    "2. Make another one of these and put both of them in a list\n",
    "\n",
    "3. Now index that list of dictionaries to find the last letter of the first skill of the last dictionary\n",
    "\n",
    "4. Create a list comprehension which maps that list to a list of the length of names\n",
    "\n",
    "5. Add that list together to get the total number of characters in all of the names"
   ]
  },
  {
   "cell_type": "code",
   "execution_count": 61,
   "metadata": {},
   "outputs": [
    {
     "name": "stdout",
     "output_type": "stream",
     "text": [
      "{'Name': 'Eddie', 'Skills': ['Juggling', 'Singing']}\n",
      "{'Name': 'Tom', 'Skills': ['Maths', 'Driving']}\n",
      "[{'Name': 'Eddie', 'Skills': ['Juggling', 'Singing']}, {'Name': 'Tom', 'Skills': ['Maths', 'Driving']}]\n",
      "s\n",
      "[5, 3]\n",
      "8\n"
     ]
    }
   ],
   "source": [
    "\n",
    "skilllist1 = [\"Juggling\", \"Singing\"]\n",
    "skilllist2 = [\"Maths\", \"Driving\"]\n",
    "Dict1 = {\n",
    "    \"Name\":\"Eddie\",\n",
    "    \"Skills\":skilllist1\n",
    "}\n",
    "Dict2 = {\n",
    "    \"Name\":\"Tom\",\n",
    "    \"Skills\":skilllist2\n",
    "}\n",
    "\n",
    "DictList = [Dict1,Dict2]\n",
    "print(Dict1)\n",
    "print(Dict2)\n",
    "print(DictList)\n",
    "print(DictList[1][\"Skills\"][0][-1])\n",
    "\n",
    "len_names = [len(dict_item['Name']) for dict_item in DictList]\n",
    "print(len_names)\n",
    "print(sum(len_names))"
   ]
  },
  {
   "cell_type": "markdown",
   "metadata": {},
   "source": [
    "## Shop item filter\n",
    "\n",
    "Filter shop_dict using list comprehension to find only items with values of over 1.00\n",
    "\n",
    "Assign them to a list called filtered_shop by their full names, not their codes, using names_dict.\n",
    "\n",
    "shop_dict = {\"tom\":0.87,\n",
    "\n",
    "\"sug\":1.09,\n",
    "\n",
    "\"ws\":0.29,\n",
    "\n",
    "\"cc\":1.89,\n",
    "\n",
    "\"ccz\":1.29}\n",
    "\n",
    "names_dict = {\"tom\":\"Tomatoes\",\n",
    "\n",
    "\"sug\":\"Sugar\",\n",
    "\n",
    "\"ws\":\"Washing Sponges\",\n",
    "\n",
    "\"cc\":\"Coca-Cola\",\n",
    "\n",
    "\"ccz\":\"Coca-Cola Zero\"}"
   ]
  },
  {
   "cell_type": "code",
   "execution_count": 18,
   "metadata": {},
   "outputs": [
    {
     "name": "stdout",
     "output_type": "stream",
     "text": [
      "[('sug', 1.09), ('cc', 1.89), ('ccz', 1.29)]\n",
      "[('Sugar', 1.09), ('Coca-Cola', 1.89), ('Coca-Cola Zero', 1.29)]\n"
     ]
    }
   ],
   "source": [
    "shop_dict = {\n",
    "    \"tom\":0.87,\n",
    "    \"sug\":1.09,\n",
    "    \"ws\":0.29,\n",
    "    \"cc\":1.89,\n",
    "    \"ccz\":1.29\n",
    "    }\n",
    "\n",
    "names_dict = {\n",
    "    \"tom\":\"Tomatoes\",\n",
    "    \"sug\":\"Sugar\",\n",
    "    \"ws\":\"Washing Sponges\",\n",
    "    \"cc\":\"Coca-Cola\",\n",
    "    \"ccz\":\"Coca-Cola Zero\"\n",
    "    }\n",
    "\n",
    "# print(shop_dict.values())\n",
    "short_filtered_shop = [(key,value) for (key,value) in shop_dict.items() if value > 1.00]\n",
    "\n",
    "long_filtered_shop =[\n",
    "\n",
    "    (names_dict[short_filtered_shop[index][0]],short_filtered_shop[index][1]) \n",
    "    # This accesses the key of one dictionary and the value of another by using the key of the short filtered\n",
    "    # shop dict as a key for the names dict. \n",
    "\n",
    "    for index in \n",
    "\n",
    "    range(len(short_filtered_shop))\n",
    "    \n",
    "    ]\n",
    "\n",
    "print(short_filtered_shop)\n",
    "\n",
    "print(long_filtered_shop)\n",
    "\n",
    "\n"
   ]
  },
  {
   "cell_type": "code",
   "execution_count": null,
   "metadata": {},
   "outputs": [],
   "source": []
  }
 ],
 "metadata": {
  "interpreter": {
   "hash": "3ee29c714df3265524192047a9c1ed88540f892048242636a710e8ef53fb505b"
  },
  "kernelspec": {
   "display_name": "Python 3.9.7 64-bit ('base': conda)",
   "name": "python3"
  },
  "language_info": {
   "codemirror_mode": {
    "name": "ipython",
    "version": 3
   },
   "file_extension": ".py",
   "mimetype": "text/x-python",
   "name": "python",
   "nbconvert_exporter": "python",
   "pygments_lexer": "ipython3",
   "version": "3.9.7"
  },
  "orig_nbformat": 4
 },
 "nbformat": 4,
 "nbformat_minor": 2
}
